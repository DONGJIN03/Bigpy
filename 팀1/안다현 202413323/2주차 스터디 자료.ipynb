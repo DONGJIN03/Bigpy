{
 "cells": [
  {
   "cell_type": "markdown",
   "metadata": {},
   "source": [
    "## **튜플**"
   ]
  },
  {
   "cell_type": "markdown",
   "metadata": {},
   "source": [
    "### 1. 원소를 'A' 하나만 가지는 튜플을 생성하라."
   ]
  },
  {
   "cell_type": "code",
   "execution_count": 1,
   "metadata": {},
   "outputs": [
    {
     "data": {
      "text/plain": [
       "('A',)"
      ]
     },
     "execution_count": 1,
     "metadata": {},
     "output_type": "execute_result"
    }
   ],
   "source": [
    "# 답안 작성\n",
    "a = (\"A\", )\n",
    "a"
   ]
  },
  {
   "cell_type": "markdown",
   "metadata": {},
   "source": [
    "### 2. 오류가 발생한 이유를 튜플의 특징과 관련하여 설명하시오."
   ]
  },
  {
   "cell_type": "code",
   "execution_count": null,
   "metadata": {},
   "outputs": [
    {
     "data": {
      "text/plain": [
       "''"
      ]
     },
     "execution_count": 3,
     "metadata": {},
     "output_type": "execute_result"
    }
   ],
   "source": [
    "t = ('A+', 'A0', 'A', 'B+', 'A+')\n",
    "type(t)\n",
    "#t[2] = 'B'"
   ]
  },
  {
   "cell_type": "markdown",
   "metadata": {},
   "source": [
    "t는 튜플이기 때문에 값을 수정하거나 변경할 수 없어서"
   ]
  },
  {
   "cell_type": "markdown",
   "metadata": {},
   "source": [
    "### 3. 아래의 요소를 튜플로 생성하시오. <br>\n",
    "**20, 4.21, 데이터정보과학부**"
   ]
  },
  {
   "cell_type": "code",
   "execution_count": 4,
   "metadata": {},
   "outputs": [
    {
     "data": {
      "text/plain": [
       "(20, 4.21, '데이터정보과학부')"
      ]
     },
     "execution_count": 4,
     "metadata": {},
     "output_type": "execute_result"
    }
   ],
   "source": [
    "# 답안 작성\n",
    "a = (20, 4.21, \"데이터정보과학부\")\n",
    "a"
   ]
  },
  {
   "cell_type": "markdown",
   "metadata": {},
   "source": [
    "### 3-1. 위 튜플의 요소를 각각 age, grade, major 변수에 저장하고 출력하세요."
   ]
  },
  {
   "cell_type": "code",
   "execution_count": 6,
   "metadata": {},
   "outputs": [
    {
     "name": "stdout",
     "output_type": "stream",
     "text": [
      "20\n",
      "4.21\n",
      "데이터정보과학부\n"
     ]
    }
   ],
   "source": [
    "# 답안 작성\n",
    "age = a[0]\n",
    "grade = a[1]\n",
    "major = a[2]\n",
    "print(age)\n",
    "print(grade)\n",
    "print(major)"
   ]
  },
  {
   "cell_type": "markdown",
   "metadata": {},
   "source": [
    "### 3-2. 위의 변수를 활용하여 다음의 문장을 생성하시오.\n",
    "**나는 __살이고 학점은 __이며 _______에 재학 중이다.**<Br>\n",
    "\\*조건: 학점은 소수점 첫째 자리까지만 표현. f-string 방식의 포매팅을 사용하여 위 문장을 생성할 것. "
   ]
  },
  {
   "cell_type": "code",
   "execution_count": 7,
   "metadata": {},
   "outputs": [
    {
     "name": "stdout",
     "output_type": "stream",
     "text": [
      "나는 20살이고 학점은 4.21이며 데이터정보과학부에 재학 중이다.\n"
     ]
    }
   ],
   "source": [
    "# 답안 작성\n",
    "print(f\"나는 {age}살이고 학점은 {grade}이며 {major}에 재학 중이다.\")"
   ]
  },
  {
   "cell_type": "markdown",
   "metadata": {},
   "source": [
    "## **딕셔너리**"
   ]
  },
  {
   "cell_type": "markdown",
   "metadata": {},
   "source": [
    "### 1. 다음 표를 딕셔너리 형태로 구현하고 출력하시오. <br>\n",
    "|좌석|잔여석|\n",
    "|------|---|\n",
    "|VIP|0|\n",
    "|스탠딩|1|\n",
    "|지정석 S|1|\n",
    "|지정석 B|0|\n",
    "|지정석 R|2|"
   ]
  },
  {
   "cell_type": "code",
   "execution_count": 8,
   "metadata": {},
   "outputs": [
    {
     "data": {
      "text/plain": [
       "{'vip': 1, '스탠딩': 1, '지정석S': 1, '지정석B': 0, '지정석R': 2}"
      ]
     },
     "execution_count": 8,
     "metadata": {},
     "output_type": "execute_result"
    }
   ],
   "source": [
    "# 답안 작성\n",
    "a = {\"vip\":1, \"스탠딩\":1, \"지정석S\":1, \"지정석B\":0, \"지정석R\":2}\n",
    "a"
   ]
  },
  {
   "cell_type": "markdown",
   "metadata": {},
   "source": [
    "### 1-1. 스탠딩 좌석이 매진되었다. 잔여석을 0으로 바꾸고 결과를 출력하시오."
   ]
  },
  {
   "cell_type": "code",
   "execution_count": 9,
   "metadata": {},
   "outputs": [
    {
     "data": {
      "text/plain": [
       "{'vip': 1, '스탠딩': 0, '지정석S': 1, '지정석B': 0, '지정석R': 2}"
      ]
     },
     "execution_count": 9,
     "metadata": {},
     "output_type": "execute_result"
    }
   ],
   "source": [
    "# 답안 작성\n",
    "a[\"스탠딩\"] = 0\n",
    "a"
   ]
  },
  {
   "cell_type": "markdown",
   "metadata": {},
   "source": [
    "### 1-2. '지정석 A' 구역과 잔여석 3을 추가하여라."
   ]
  },
  {
   "cell_type": "code",
   "execution_count": 10,
   "metadata": {},
   "outputs": [
    {
     "data": {
      "text/plain": [
       "{'vip': 1, '스탠딩': 0, '지정석S': 1, '지정석B': 0, '지정석R': 2, '지정석A': 3}"
      ]
     },
     "execution_count": 10,
     "metadata": {},
     "output_type": "execute_result"
    }
   ],
   "source": [
    "# 답안 작성\n",
    "a[\"지정석A\"] = 3\n",
    "a"
   ]
  },
  {
   "cell_type": "markdown",
   "metadata": {},
   "source": [
    "### 2. 다음은 좌표와 좌표에 대응하는 장소 이름이다.\n",
    "|X|Y|장소|\n",
    "|------|---|---|\n",
    "|35.1|29.47|도서관|\n",
    "|22.0|52.7|주택|\n",
    "|82.56|11.77|연구소|\n",
    "\n",
    "### 딕셔너리 형태를 만들되, Key: Value 양식이 **좌표: 장소**로 표현되도록 하시오. <br>\n",
    "\\* 힌트: 좌표는 튜플로 표현한다."
   ]
  },
  {
   "cell_type": "code",
   "execution_count": 11,
   "metadata": {},
   "outputs": [
    {
     "data": {
      "text/plain": [
       "{(35.1, 29.47): '도서관', (22.0, 52.7): '주택', (82.56, 11.77): '연구소'}"
      ]
     },
     "execution_count": 11,
     "metadata": {},
     "output_type": "execute_result"
    }
   ],
   "source": [
    "# 답안 작성\n",
    "a = {(35.1, 29.47):\"도서관\", (22.0, 52.7):\"주택\", (82.56, 11.77):\"연구소\"}\n",
    "a"
   ]
  },
  {
   "cell_type": "markdown",
   "metadata": {},
   "source": [
    "## **집합**"
   ]
  },
  {
   "cell_type": "markdown",
   "metadata": {},
   "source": [
    "### 1. A는 쇼핑, 딸기, 바닐라 라떼를 좋아하고 B는 볼링, 참외, 자장면, 바닐라 라떼를 좋아한다. A가 좋아하는 것과 B가 좋아하는 것을 각각의 **집합**에 담아 표현하시오."
   ]
  },
  {
   "cell_type": "code",
   "execution_count": 12,
   "metadata": {},
   "outputs": [
    {
     "name": "stdout",
     "output_type": "stream",
     "text": [
      "{'쇼핑', '바닐라 라떼', '딸기'}\n",
      "{'자장면', '참외', '볼링', '바닐라 라떼'}\n"
     ]
    }
   ],
   "source": [
    "# 답안 작성\n",
    "A = set([\"쇼핑\", \"딸기\", \"바닐라 라떼\"])\n",
    "B = set([\"볼링\", \"참외\", \"자장면\", \"바닐라 라떼\"])\n",
    "print(A)\n",
    "print(B)"
   ]
  },
  {
   "cell_type": "markdown",
   "metadata": {},
   "source": [
    "### 1-2. A와 B 두 명이 공통적으로 좋아하는 것들을 출력하시오. 단, 집합의 기능 중 하나를 이용하도록 한다."
   ]
  },
  {
   "cell_type": "code",
   "execution_count": 16,
   "metadata": {},
   "outputs": [
    {
     "name": "stdout",
     "output_type": "stream",
     "text": [
      "{'바닐라 라떼'}\n",
      "{'바닐라 라떼'}\n"
     ]
    }
   ],
   "source": [
    "# 답안 작성\n",
    "print(A&B)\n",
    "print(A.intersection(B))"
   ]
  },
  {
   "cell_type": "markdown",
   "metadata": {},
   "source": [
    "### 1-3. B는 좋아하지 않고 A만 좋아하는 것들을 출력하시오. 단, 집합의 기능 중 하나를 이용하도록 한다."
   ]
  },
  {
   "cell_type": "code",
   "execution_count": 17,
   "metadata": {},
   "outputs": [
    {
     "name": "stdout",
     "output_type": "stream",
     "text": [
      "{'쇼핑', '딸기'}\n",
      "{'쇼핑', '딸기'}\n"
     ]
    }
   ],
   "source": [
    "# 답안 작성\n",
    "print(A-B)\n",
    "print(A.difference(B))"
   ]
  }
 ],
 "metadata": {
  "kernelspec": {
   "display_name": "base",
   "language": "python",
   "name": "python3"
  },
  "language_info": {
   "codemirror_mode": {
    "name": "ipython",
    "version": 3
   },
   "file_extension": ".py",
   "mimetype": "text/x-python",
   "name": "python",
   "nbconvert_exporter": "python",
   "pygments_lexer": "ipython3",
   "version": "3.12.7"
  }
 },
 "nbformat": 4,
 "nbformat_minor": 2
}
