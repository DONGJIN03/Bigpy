{
 "cells": [
  {
   "cell_type": "markdown",
   "metadata": {},
   "source": [
    "# 02-4 튜플 자료형"
   ]
  },
  {
   "cell_type": "code",
   "execution_count": null,
   "metadata": {},
   "outputs": [],
   "source": [
    "#1. 튜플\n",
    "#1-1. 리스트는 [], 튜플은()로 둘러싼다.\n",
    "#1-2. 리스트는 요솟값 변화 가능 VS 튜플 요솟값 변화화 불가능(고정)\n",
    "\n",
    "t1 = ()\n",
    "t2 = (1, ) #1개만의 요소를 가질땐 요소 뒤에 반드시 쉼표\n",
    "t4 = 1, 2, 3 #소괄호 생략 가능능\n",
    "t5 = (\"a\", \"b\", (\"ab\", \"cd\"))\n"
   ]
  },
  {
   "cell_type": "code",
   "execution_count": null,
   "metadata": {},
   "outputs": [],
   "source": [
    "#2. 요소값을 지우거나 변경할 경우\n",
    "#2-1. 삭제할 때\n",
    "t1 = (1, 2, \"a\", \"b\")\n",
    "#del t1[0] #'tuple' object doesn't support item deletion(요솟값을 지울 수 없음)\n",
    "\n",
    "#2-2. 변경할 때\n",
    "#t1[0] = \"c\" #'tuple' object does not support item assignment(오류발생) "
   ]
  },
  {
   "cell_type": "code",
   "execution_count": 13,
   "metadata": {},
   "outputs": [
    {
     "name": "stdout",
     "output_type": "stream",
     "text": [
      "1\n",
      "b\n",
      "ck: (1, 2, 'a', 'b')\n",
      "========================\n",
      "(2, 'a', 'b')\n",
      "('a', 'b')\n",
      "ck: (1, 2, 'a', 'b')\n"
     ]
    }
   ],
   "source": [
    "#3. 튜플 다루기\n",
    "#3-1. 인덱싱\n",
    "t1 = (1, 2, \"a\", \"b\")\n",
    "print(t1[0])\n",
    "print(t1[3])\n",
    "print(\"ck:\", t1)\n",
    "print(\"========================\")\n",
    "#3-2. 슬라이싱\n",
    "print(t1[1:])\n",
    "print(t1[2:])\n",
    "print(\"ck:\", t1)\n"
   ]
  },
  {
   "cell_type": "code",
   "execution_count": 15,
   "metadata": {},
   "outputs": [
    {
     "name": "stdout",
     "output_type": "stream",
     "text": [
      "(1, 2, 'a', 'b', 3, 4)\n",
      "(3, 4, 3, 4, 3, 4, 3, 4, 3, 4)\n"
     ]
    }
   ],
   "source": [
    "#3-3. 튜플 더하기\n",
    "t1 = (1, 2, \"a\", \"b\")\n",
    "t2 = (3, 4)\n",
    "print(t1 + t2)\n",
    "\n",
    "#3-4. 튜플 곱하기\n",
    "print(t2 * 5)"
   ]
  },
  {
   "cell_type": "code",
   "execution_count": 16,
   "metadata": {},
   "outputs": [
    {
     "data": {
      "text/plain": [
       "4"
      ]
     },
     "execution_count": 16,
     "metadata": {},
     "output_type": "execute_result"
    }
   ],
   "source": [
    "#3-5. 튜플 길이 구하기기\n",
    "t1 = (1, 2, \"a\", \"b\")\n",
    "len(t1)"
   ]
  },
  {
   "cell_type": "markdown",
   "metadata": {},
   "source": [
    "# 02-5 딕셔너리 자료형"
   ]
  },
  {
   "cell_type": "code",
   "execution_count": 5,
   "metadata": {},
   "outputs": [],
   "source": [
    "#1. 딕셔너리\n",
    "dic = {\"name\":\"A\", \"phone\":\"010-1234-5678\", \"birth\":\"0110\"}\n",
    "a = {1:\"A\"}\n",
    "b = {\"b\" : [1, 2, 3]}"
   ]
  },
  {
   "cell_type": "code",
   "execution_count": 9,
   "metadata": {},
   "outputs": [
    {
     "name": "stdout",
     "output_type": "stream",
     "text": [
      "{1: 'a', 2: 'b'}\n",
      "{1: 'a', 2: 'b', 'name': 'c'}\n"
     ]
    }
   ],
   "source": [
    "#2. 딕셔너리 쌍추가, 삭제\n",
    "#2-1. 딕셔너리 쌍 추가\n",
    "a = {1:\"a\"}\n",
    "a[2] = \"b\"\n",
    "print(a)\n",
    "a[\"name\"] = \"c\"\n",
    "print(a)"
   ]
  },
  {
   "cell_type": "code",
   "execution_count": 10,
   "metadata": {},
   "outputs": [
    {
     "name": "stdout",
     "output_type": "stream",
     "text": [
      "{2: 'b', 'name': 'c'}\n"
     ]
    }
   ],
   "source": [
    "#2-2. 딕셔너리 요소 삭제\n",
    "a = {1: 'a', 2: 'b', 'name': 'c'}\n",
    "del a[1]\n",
    "print(a)"
   ]
  },
  {
   "cell_type": "code",
   "execution_count": 14,
   "metadata": {},
   "outputs": [
    {
     "name": "stdout",
     "output_type": "stream",
     "text": [
      "10\n",
      "20\n",
      "A\n",
      "010-1234-5678\n",
      "0110\n"
     ]
    }
   ],
   "source": [
    "#3. 딕셔너리를 사용하는 방법\n",
    "#3-1. 딕셔너리에서 key를 통해 value 얻기\n",
    "grade = {\"a\":10, \"b\":20}\n",
    "print(grade[\"a\"])\n",
    "print(grade[\"b\"])\n",
    "#리스트, 튜플, 문자열은 요솟값을 얻고자 할 때 인덱싱이나\n",
    "#슬라이싱 기법 사용. but, 딕셔너리를 key를 사용해 value를 구하는\n",
    "#방법 하나뿐임.\n",
    "dic = {\"name\":\"A\", \"phone\":\"010-1234-5678\", \"birth\":\"0110\"}\n",
    "print(dic[\"name\"])\n",
    "print(dic[\"phone\"])\n",
    "print(dic[\"birth\"])"
   ]
  },
  {
   "cell_type": "code",
   "execution_count": 21,
   "metadata": {},
   "outputs": [
    {
     "name": "stdout",
     "output_type": "stream",
     "text": [
      "{1: 'b'}\n"
     ]
    }
   ],
   "source": [
    "#3-2. 딕셔너리를 사용할 때 주의할 점\n",
    "a = {1:\"a\", 1:\"b\"} #중복되는 key값을 설정해둔다면 하나를 제외한 \n",
    "                   #나머지 값들은 무시됨(동일한 key값 X) \n",
    "print(a)\n",
    "# b = {[1, 2]:\"a\"} #key에는 리스트를 쓸 수 없음\n",
    "c = {(1, ):\"a\"} #key에 튜플은 쓸 수 있음\n",
    "#>> 딕셔너리의 key로 쓸 수 있는지 없는지는 \n",
    "# key가 변하는 값인지, 변하지 않는 값인지가 중요함."
   ]
  },
  {
   "cell_type": "code",
   "execution_count": null,
   "metadata": {},
   "outputs": [
    {
     "name": "stdout",
     "output_type": "stream",
     "text": [
      "dict_keys(['name', 'phone', 'birth'])\n",
      "<class 'dict_keys'>\n",
      "dict_values(['A', '010-1234-5678', '0110'])\n"
     ]
    }
   ],
   "source": [
    "#4. 딕셔너리 관련 함수\n",
    "#4-1. keys : key 리스트 만들기\n",
    "dic = {\"name\":\"A\", \"phone\":\"010-1234-5678\", \"birth\":\"0110\"}\n",
    "print(dic.keys()) #dict_keys 객체로 리턴\n",
    "print(type(dic.keys())) #!= list\n",
    "\n",
    "#4-2. values : value 리스트 만들기\n",
    "print(dic.values()) #dict_values 객체로 리턴"
   ]
  },
  {
   "cell_type": "code",
   "execution_count": null,
   "metadata": {},
   "outputs": [
    {
     "name": "stdout",
     "output_type": "stream",
     "text": [
      "dict_items([('a', 1), ('b', 2)])\n",
      "{}\n"
     ]
    }
   ],
   "source": [
    "#4-3. items : key, value 쌍 얻기\n",
    "a = {\"a\":1, \"b\":2} \n",
    "print(a.items()) #dict_items 객체로 리턴\n",
    "\n",
    "#4-4. clear : key:value 쌍 모두 지우기\n",
    "a = {\"a\":1, \"b\":2}\n",
    "a.clear()\n",
    "print(a)"
   ]
  },
  {
   "cell_type": "code",
   "execution_count": 36,
   "metadata": {},
   "outputs": [
    {
     "name": "stdout",
     "output_type": "stream",
     "text": [
      "A\n",
      "0110\n",
      "X\n",
      "False\n",
      "True\n",
      "True\n"
     ]
    }
   ],
   "source": [
    "#4-5. get : key로 value 얻기\n",
    "dic = {\"name\":\"A\", \"phone\":\"010-1234-5678\", \"birth\":\"0110\", 2:\"a\"}\n",
    "print(dic.get(\"name\")) #== dic[\"name\"]\n",
    "print(dic.get(\"birth\"))\n",
    "#a[] : 딕셔너리에 존재하지 않는 키로 값을 가져올 경우 오류 발생\n",
    "#a.get() : 위의 경우 None을 리턴\n",
    "print(dic.get(\"ck\", \"X\")) #key가 없을 경우 미리 정해둔 디폴갑값 가져옴\n",
    "\n",
    "#4-6. in : 해당 key가 딕셔너리 안에 있는지 조사 \n",
    "print(\"name\" in b)\n",
    "print(\"phone\" in dic)\n",
    "print(2 in dic)"
   ]
  },
  {
   "cell_type": "markdown",
   "metadata": {},
   "source": [
    "# 02-6 집합 자료형"
   ]
  },
  {
   "cell_type": "code",
   "execution_count": null,
   "metadata": {},
   "outputs": [
    {
     "name": "stdout",
     "output_type": "stream",
     "text": [
      "{1, 2, 3}\n",
      "{'e', 'o', 'H', 'l'}\n",
      "()\n"
     ]
    }
   ],
   "source": [
    "#1. 집합 자료형\n",
    "s1 = set([1, 2, 3])\n",
    "print(s1)\n",
    "s2 = set(\"Hello\") #각 요소별로\n",
    "print(s2)\n",
    "s3 = ()로\n",
    "print(s3) #비어있는 집합 자료형"
   ]
  },
  {
   "cell_type": "code",
   "execution_count": 8,
   "metadata": {},
   "outputs": [
    {
     "name": "stdout",
     "output_type": "stream",
     "text": [
      "{'e', 'o', 'H', 'l'}\n",
      "2\n",
      "2\n"
     ]
    }
   ],
   "source": [
    "#2. 집합 자료형의 특징\n",
    "s2 = set(\"Hello\") #<< 1. 중복을 허용하지 않는다. < 데이터의 중복을 제거하기 위한 필터로 사용 \n",
    "                  #   2. 순서가 없다. < 인덱싱을 통해 요솟값을 얻을 수 없음\n",
    "print(s2)\n",
    "\n",
    "#set자료형에 저장된 값르르 인덱싱으로 접근하려면 리스트나 튜플로 변환\n",
    "s1 = set([1, 2, 3])\n",
    "print(list(s1)[1])\n",
    "print(tuple(s1)[1])"
   ]
  },
  {
   "cell_type": "code",
   "execution_count": 2,
   "metadata": {},
   "outputs": [
    {
     "name": "stdout",
     "output_type": "stream",
     "text": [
      "{1, 2, 3, 4, 5, 6}\n",
      "{4, 5, 6, 7, 8, 9}\n"
     ]
    }
   ],
   "source": [
    "#3. 교집합, 합집합, 차집합 구하기\n",
    "s1 = set([1, 2, 3, 4, 5, 6])\n",
    "s2 = set([4, 5, 6, 7, 8, 9])\n",
    "print(s1)\n",
    "print(s2)"
   ]
  },
  {
   "cell_type": "code",
   "execution_count": 7,
   "metadata": {},
   "outputs": [
    {
     "name": "stdout",
     "output_type": "stream",
     "text": [
      "{4, 5, 6}\n",
      "{4, 5, 6}\n",
      "{4, 5, 6}\n"
     ]
    }
   ],
   "source": [
    "#3-1. 교집합\n",
    "print(s1 & s2)\n",
    "print(s1.intersection(s2))\n",
    "print(s2.intersection(s1))"
   ]
  },
  {
   "cell_type": "code",
   "execution_count": 9,
   "metadata": {},
   "outputs": [
    {
     "name": "stdout",
     "output_type": "stream",
     "text": [
      "{1, 2, 3, 4, 5, 6, 7, 8, 9}\n",
      "{1, 2, 3, 4, 5, 6, 7, 8, 9}\n",
      "{1, 2, 3, 4, 5, 6, 7, 8, 9}\n"
     ]
    }
   ],
   "source": [
    "#3-2. 합집합\n",
    "print(s1 | s2)\n",
    "print(s1.union(s2))\n",
    "print(s2.union(s1))"
   ]
  },
  {
   "cell_type": "code",
   "execution_count": 14,
   "metadata": {},
   "outputs": [
    {
     "name": "stdout",
     "output_type": "stream",
     "text": [
      "{1, 2, 3}\n",
      "{8, 9, 7}\n",
      "{1, 2, 3}\n",
      "{8, 9, 7}\n"
     ]
    }
   ],
   "source": [
    "#3-3. 차집합\n",
    "print(s1 - s2)\n",
    "print(s2 - s1)\n",
    "print(s1.difference(s2))\n",
    "print(s2.difference(s1))"
   ]
  },
  {
   "cell_type": "code",
   "execution_count": 18,
   "metadata": {},
   "outputs": [],
   "source": [
    "#4. 집합 자료형 관련 함수"
   ]
  },
  {
   "cell_type": "code",
   "execution_count": 19,
   "metadata": {},
   "outputs": [
    {
     "data": {
      "text/plain": [
       "{1, 2, 3, 4}"
      ]
     },
     "execution_count": 19,
     "metadata": {},
     "output_type": "execute_result"
    }
   ],
   "source": [
    "#4-1. add : 값 1개 추가하기\n",
    "s1 = set([1, 2, 3])\n",
    "s1.add(4)\n",
    "s1"
   ]
  },
  {
   "cell_type": "code",
   "execution_count": 20,
   "metadata": {},
   "outputs": [
    {
     "data": {
      "text/plain": [
       "{1, 2, 3, 4, 5, 6}"
      ]
     },
     "execution_count": 20,
     "metadata": {},
     "output_type": "execute_result"
    }
   ],
   "source": [
    "#4-2. update : 값 여러개 추가하기 \n",
    "s1 = set([1, 2, 3])\n",
    "s1.update([4, 5, 6])\n",
    "s1"
   ]
  },
  {
   "cell_type": "code",
   "execution_count": 17,
   "metadata": {},
   "outputs": [
    {
     "data": {
      "text/plain": [
       "{1, 2}"
      ]
     },
     "execution_count": 17,
     "metadata": {},
     "output_type": "execute_result"
    }
   ],
   "source": [
    "#4-3. remove : 특정 값 제거하기\n",
    "s1 = set([1, 2, 3])\n",
    "s1.remove(3)\n",
    "s1"
   ]
  }
 ],
 "metadata": {
  "kernelspec": {
   "display_name": "Python 3",
   "language": "python",
   "name": "python3"
  },
  "language_info": {
   "codemirror_mode": {
    "name": "ipython",
    "version": 3
   },
   "file_extension": ".py",
   "mimetype": "text/x-python",
   "name": "python",
   "nbconvert_exporter": "python",
   "pygments_lexer": "ipython3",
   "version": "3.12.7"
  }
 },
 "nbformat": 4,
 "nbformat_minor": 2
}
